{
 "cells": [
  {
   "cell_type": "code",
   "execution_count": 1,
   "metadata": {},
   "outputs": [
    {
     "data": {
      "text/plain": [
       "\"\\nprint('Download runeq, via Terminal: pip install runeq')\\nRune instructions: https://github.com/rune-labs/opensource/blob/master/jupyter-notebook-templates/00_python_installation_instructions.md\\ndocumentation Rune functions: https://github.com/rune-labs/opensource/blob/master/jupyter-notebook-templates/02_download_watch_data.ipynb\\nMake sure that runeq is up-to-date before you run by running: \\npip install pipupgrade\\npipupgrade --verbose --latest --yes\\n\\n\""
      ]
     },
     "execution_count": 1,
     "metadata": {},
     "output_type": "execute_result"
    }
   ],
   "source": [
    "# import packages\n",
    "import time\n",
    "from datetime import timedelta, datetime, date\n",
    "import arrow \n",
    "import pdb\n",
    "import glob \n",
    "\n",
    "from os.path import join\n",
    "import os\n",
    "from os import listdir\n",
    "from os.path import isfile, join\n",
    "import csv\n",
    "\n",
    "import numpy as np\n",
    "import numpy.matlib\n",
    "import pandas as pd\n",
    "\n",
    "\n",
    "import io\n",
    "from runeq import Config, stream\n",
    "\n",
    "import matplotlib.pyplot as plt\n",
    "from matplotlib import figure\n",
    "%matplotlib inline\n",
    "\n",
    "'''\n",
    "print('Download runeq, via Terminal: pip install runeq')\n",
    "Rune instructions: https://github.com/rune-labs/opensource/blob/master/jupyter-notebook-templates/00_python_installation_instructions.md\n",
    "documentation Rune functions: https://github.com/rune-labs/opensource/blob/master/jupyter-notebook-templates/02_download_watch_data.ipynb\n",
    "Make sure that runeq is up-to-date before you run by running: \n",
    "pip install pipupgrade\n",
    "pipupgrade --verbose --latest --yes\n",
    "\n",
    "'''\n",
    "\n"
   ]
  },
  {
   "cell_type": "markdown",
   "metadata": {},
   "source": [
    "# Downloading RCS-Accelerometry or -Neural data via Rune platform\n",
    "\n",
    "Code requires one folder with a patient-specific folder per patient.\n",
    "\n",
    "Code requires on folder 'config files' in main path, containing the configuration files for each specific patient. Documentation about how to create these files is given on the Rune-Github: https://github.com/rune-labs/opensource/blob/master/jupyter-notebook-templates/02_download_watch_data.ipynb."
   ]
  },
  {
   "cell_type": "code",
   "execution_count": 2,
   "metadata": {},
   "outputs": [
    {
     "name": "stdout",
     "output_type": "stream",
     "text": [
      "/Users/jeroenhabets/Desktop/UCSF_Bradykinesia_Detection/medStateDetection\n"
     ]
    }
   ],
   "source": [
    "# set the path to the directory in which the repo exists \n",
    "path = os.path.dirname(os.getcwd())\n",
    "print(path)"
   ]
  },
  {
   "cell_type": "code",
   "execution_count": 3,
   "metadata": {},
   "outputs": [],
   "source": [
    "# set up config for Rune RCS data extraction\n",
    "# The Device-ID's differ from the Apple-watch device IDs!! \n",
    "\n",
    "# (https://github.com/rune-labs/opensource/blob/master/jupyter-notebook-templates/02_download_watch_data.ipynb)\n",
    "\n",
    "\n",
    "'''\n",
    "Config files are patient and user specific. Open yaml-files to enter personal client key and access key.\n",
    "To get keys: log in in Rune-labs as admin; click edit-pencil next to patients name;\n",
    "go to Clients; make new Client; copy keys to yaml-file\n",
    "'''\n",
    "\n",
    "cfg_RCS02 = Config(os.path.join(path,'config_files','rune_Jeroen_watch_config_RCS02.yaml'))\n",
    "cfg_RCS05 = Config(os.path.join(path,'config_files','rune_Jeroen_watch_config_RCS05.yaml'))\n",
    "cfg_RCS06 = Config(os.path.join(path,'config_files','rune_Jeroen_watch_config_RCS06.yaml'))\n",
    "cfg_RCS07 = Config(os.path.join(path,'config_files','rune_Jeroen_watch_config_RCS07.yaml'))\n",
    "\n",
    "clients = {'RCS02_left' : stream.V1Client(cfg_RCS02),'RCS02_right' : stream.V1Client(cfg_RCS02),\n",
    "           'RCS05_left' : stream.V1Client(cfg_RCS05),'RCS05_right' : stream.V1Client(cfg_RCS05),\n",
    "          'RCS06_left': stream.V1Client(cfg_RCS06), 'RCS06_right': stream.V1Client(cfg_RCS06),\n",
    "           'RCS07_left': stream.V1Client(cfg_RCS07),'RCS07_right': stream.V1Client(cfg_RCS07)}\n",
    "\n",
    "# device_ids are ID's for patient's RCS's, for all patient right-sided RCS\n",
    "deviceIDS = {'RCS02_right': 'DeviceNPC700404H', 'RCS02_left': 'DeviceNPC700398H',\n",
    "             'RCS05_right': 'DeviceNPC700415H', 'RCS05_left': 'DeviceNPC700414H',\n",
    "             'RCS06_right': 'NPC700425H', 'RCS06_left': 'NPC700424H', \n",
    "             'RCS07_right': 'NPC700403H', 'RCS07_left': 'NPC700419H'}\n",
    "\n",
    "\n",
    "\n",
    "\n",
    "\n"
   ]
  },
  {
   "cell_type": "code",
   "execution_count": 73,
   "metadata": {},
   "outputs": [],
   "source": [
    "def downloadRCSData(pt_side,data_type,y0,m0,d0,y1,m1,d1):\n",
    "    '''\n",
    "    Function downloads csv files with RCS accelerometry (always with gravity, no internal\n",
    "    filtering), or neural data for seperate days, within a given time period.\n",
    "    Input:\n",
    "    - pt_side = patient and side as string (e.g. 'RCS02_right' or 'RCS05_left')\n",
    "    - data_type = 'accel', or 'neuralStates'\n",
    "    - y0,m0,d0 : start date of desired timeperiod (year, month, date, e.g. 2020, 5, 1)\n",
    "    - y1,m1,d1 : end date of desired timeperiod (year, month, date, e.g. 2020, 6, 1)\n",
    "    \n",
    "    Saves csv files in patient folder within given path-folder.\n",
    "    '''\n",
    "    \n",
    "    '''\n",
    "    Configurations for extraction via Rune platform\n",
    "    Source: https://github.com/rune-labs/opensource/blob/master/jupyter-notebook-templates/02_download_watch_data.ipynb\n",
    "    \n",
    "    Config files are patient and user specific. Open yaml-files to enter personal client key and access key.\n",
    "    To get keys: log in in Rune-labs as admin; click edit-pencil next to patients name;\n",
    "    go to Clients; make new Client; copy keys to yaml-file\n",
    "    '''\n",
    "    \n",
    "    # define timespan\n",
    "    def datetime_range(start=None, end=None):\n",
    "        span = end - start\n",
    "        for i in range(span.days + 1):\n",
    "            yield start + timedelta(days=i)\n",
    "    # create list with timestamps of beginning of all days in given time period\n",
    "    datetimeDays = list(datetime_range(start=datetime(y0, m0, d0), end=datetime(y1, m1, d1)))\n",
    "    for timeStart in datetimeDays: # loop over all days in requested timespan\n",
    "        # define start time of download, as required tuple\n",
    "        start = timeStart.timestamp()\n",
    "#         start = time.mktime(timeStart.timetuple()) \n",
    "        print(pd.to_datetime(start, unit='s'))\n",
    "        # download per day, so end of download is end of day\n",
    "        timeEnd = timeStart + timedelta(days=1)\n",
    "        # convert end-time in required time tuple        \n",
    "        end = timeEnd.timestamp()\n",
    "#         end = time.mktime(timeEnd.timetuple()) # convert to unix time\n",
    "\n",
    "        # set download parameters with set start and endtimes\n",
    "        downloadParameters = {'device_id': deviceIDS[pt_side], \n",
    "                              'start_time': start,\n",
    "                              'end_time': end, \n",
    "                              'timestamp': 'unix'}\n",
    "\n",
    "        '''\n",
    "        Rune-function which makes API call for data, saves to CSV and outputs dataframe.\n",
    "        PM: RCS only generates acc-data with gravity. So, expression=accel is used.\n",
    "        '''\n",
    "        \n",
    "        # set download parameters with specific device, start and end date\n",
    "        if data_type == 'accel':\n",
    "            accessor = clients[pt_side].Accel(**downloadParameters, expression= \"accel\" )\n",
    "        elif data_type == 'neuralStates':\n",
    "            adaptive_fields = {\n",
    "        'event': 'stimulation_state.adaptive',\n",
    "        'fields': 'adaptive_state,'\n",
    "                'ld0.threshold.high,'\n",
    "                  'ld0.threshold.low,'\n",
    "                  'ld0.output,'\n",
    "                'ld1.threshold.high,'\n",
    "                  'ld1.threshold.low,'\n",
    "                  'ld1.output,'\n",
    "                  }\n",
    "            accessor = clients[pt_side].State( **downloadParameters, **adaptive_fields  )\n",
    "        else:\n",
    "            print('Check data_type entry')\n",
    "            break\n",
    "        # Extraction of Rune function\n",
    "        df = pd.DataFrame()\n",
    "        for page in accessor.iter_csv_text():\n",
    "            page_df = pd.read_csv(io.StringIO(page))\n",
    "            df = df.append(page_df, ignore_index=True)\n",
    "        \n",
    "        df.insert(loc=0, value=pd.to_datetime(df['time'], unit='s'), column='timeStamp')\n",
    "        \n",
    "        # define name of day-file\n",
    "        day = timeStart.strftime(\"%d\") # generate 2-digit day code\n",
    "        month = timeStart.strftime(\"%m\") # generate 2-digit month code\n",
    "        year = timeStart.strftime(\"%Y\") # generate 4-digit year code\n",
    "\n",
    "        if df.shape[0] < 5: # selects days without available acc data\n",
    "            print('%s %s %s had no recording.'% ( year, month, day)) # informing about days without recording\n",
    "            continue # goes further to next day without writing file\n",
    "        \n",
    "        fileName = '%s_%s%s%s_RCS_%s.csv' % (pt_side, year, month, day, data_type)\n",
    "        # save dataframe to a csv\n",
    "        patient_dir_name = os.path.join(path,'data','%s' % pt_side[:5])\n",
    "        try: \n",
    "            os.makedirs(patient_dir_name)\n",
    "        except OSError as error: \n",
    "            print(error)\n",
    "        df.to_csv(os.path.join(patient_dir_name,fileName), index=False)\n",
    "        print('%s %s %s is written!'% ( year, month, day))\n",
    "    \n",
    "    return df\n",
    "\n"
   ]
  },
  {
   "cell_type": "code",
   "execution_count": 74,
   "metadata": {},
   "outputs": [
    {
     "name": "stdout",
     "output_type": "stream",
     "text": [
      "2020-06-10 07:00:00\n",
      "[Errno 17] File exists: '/Users/jeroenhabets/Desktop/UCSF_Bradykinesia_Detection/medStateDetection/data/RCS02'\n",
      "2020 06 10 is written!\n",
      "2020-06-11 07:00:00\n",
      "2020 06 11 had no recording.\n",
      "2020-06-12 07:00:00\n",
      "[Errno 17] File exists: '/Users/jeroenhabets/Desktop/UCSF_Bradykinesia_Detection/medStateDetection/data/RCS02'\n",
      "2020 06 12 is written!\n"
     ]
    }
   ],
   "source": [
    "test = downloadRCSData(pt_side='RCS02_right', data_type='neuralStates', y0=2020, m0=6, d0=10, y1=2020, m1=6, d1=12)\n",
    "\n"
   ]
  },
  {
   "cell_type": "code",
   "execution_count": 78,
   "metadata": {},
   "outputs": [
    {
     "data": {
      "text/plain": [
       "[<matplotlib.lines.Line2D at 0x7feca39c65c0>]"
      ]
     },
     "execution_count": 78,
     "metadata": {},
     "output_type": "execute_result"
    },
    {
     "data": {
      "image/png": "[encoded data removed]",
      "text/plain": [
       "<Figure size 432x288 with 1 Axes>"
      ]
     },
     "metadata": {
      "needs_background": "light"
     },
     "output_type": "display_data"
    }
   ],
   "source": [
    "plt.plot(test['adaptive_state'])"
   ]
  }
 ],
 "metadata": {
  "kernelspec": {
   "display_name": "Python 3",
   "language": "python",
   "name": "python3"
  },
  "language_info": {
   "codemirror_mode": {
    "name": "ipython",
    "version": 3
   },
   "file_extension": ".py",
   "mimetype": "text/x-python",
   "name": "python",
   "nbconvert_exporter": "python",
   "pygments_lexer": "ipython3",
   "version": "3.7.3"
  }
 },
 "nbformat": 4,
 "nbformat_minor": 2
}
