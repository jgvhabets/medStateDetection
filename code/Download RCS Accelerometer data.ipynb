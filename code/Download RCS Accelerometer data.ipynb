{
 "cells": [
  {
   "cell_type": "code",
   "execution_count": 1,
   "metadata": {},
   "outputs": [
    {
     "data": {
      "text/plain": [
       "\"\\nprint('Download runeq, via Terminal: pip install runeq')\\nRune instructions: https://github.com/rune-labs/opensource/blob/master/jupyter-notebook-templates/00_python_installation_instructions.md\\ndocumentation Rune functions: https://github.com/rune-labs/opensource/blob/master/jupyter-notebook-templates/02_download_watch_data.ipynb\\nMake sure that runeq is up-to-date before you run by running: \\npip install pipupgrade\\npipupgrade --verbose --latest --yes\\n\\n\""
      ]
     },
     "execution_count": 1,
     "metadata": {},
     "output_type": "execute_result"
    }
   ],
   "source": [
    "# import packages\n",
    "import time\n",
    "from datetime import timedelta, datetime, date\n",
    "import arrow \n",
    "import pdb\n",
    "import glob \n",
    "\n",
    "from os.path import join\n",
    "import os\n",
    "from os import listdir\n",
    "from os.path import isfile, join\n",
    "import csv\n",
    "\n",
    "import numpy as np\n",
    "import numpy.matlib\n",
    "import pandas as pd\n",
    "\n",
    "\n",
    "import io\n",
    "from runeq import Config, stream\n",
    "\n",
    "import matplotlib.pyplot as plt\n",
    "from matplotlib import figure\n",
    "%matplotlib inline\n",
    "\n",
    "'''\n",
    "print('Download runeq, via Terminal: pip install runeq')\n",
    "Rune instructions: https://github.com/rune-labs/opensource/blob/master/jupyter-notebook-templates/00_python_installation_instructions.md\n",
    "documentation Rune functions: https://github.com/rune-labs/opensource/blob/master/jupyter-notebook-templates/02_download_watch_data.ipynb\n",
    "Make sure that runeq is up-to-date before you run by running: \n",
    "pip install pipupgrade\n",
    "pipupgrade --verbose --latest --yes\n",
    "\n",
    "'''\n",
    "\n"
   ]
  },
  {
   "cell_type": "markdown",
   "metadata": {},
   "source": [
    "# Downloading RCS-Accelerometry via Rune platform\n",
    "\n",
    "Code requires one folder with a patient-specific folder per patient.\n",
    "\n",
    "Code requires on folder 'config files' in main path, containing the configuration files for each specific patient. Documentation about how to create these files is given on the Rune-Github: https://github.com/rune-labs/opensource/blob/master/jupyter-notebook-templates/02_download_watch_data.ipynb."
   ]
  },
  {
   "cell_type": "code",
   "execution_count": 2,
   "metadata": {},
   "outputs": [
    {
     "name": "stdout",
     "output_type": "stream",
     "text": [
      "/Users/jeroenhabets/Desktop/UCSF_Bradykinesia_Detection/medStateDetection\n"
     ]
    }
   ],
   "source": [
    "# set the path to the directory in which the repo exists \n",
    "path = os.path.dirname(os.getcwd())\n",
    "print(path)"
   ]
  },
  {
   "cell_type": "code",
   "execution_count": 3,
   "metadata": {},
   "outputs": [],
   "source": [
    "# set up config for Rune RCS data extraction\n",
    "# The Device-ID's differ from the Apple-watch device IDs!! \n",
    "\n",
    "# (https://github.com/rune-labs/opensource/blob/master/jupyter-notebook-templates/02_download_watch_data.ipynb)\n",
    "\n",
    "\n",
    "'''\n",
    "Config files are patient and user specific. Open yaml-files to enter personal client key and access key.\n",
    "To get keys: log in in Rune-labs as admin; click edit-pencil next to patients name;\n",
    "go to Clients; make new Client; copy keys to yaml-file\n",
    "'''\n",
    "\n",
    "cfg_RCS02 = Config(os.path.join(path,'config_files','rune_Jeroen_watch_config_RCS02.yaml'))\n",
    "cfg_RCS05 = Config(os.path.join(path,'config_files','rune_Jeroen_watch_config_RCS05.yaml'))\n",
    "cfg_RCS06 = Config(os.path.join(path,'config_files','rune_Jeroen_watch_config_RCS06.yaml'))\n",
    "cfg_RCS07 = Config(os.path.join(path,'config_files','rune_Jeroen_watch_config_RCS07.yaml'))\n",
    "\n",
    "clients = {'RCS02' : stream.V1Client(cfg_RCS02),'RCS05' : stream.V1Client(cfg_RCS05),\n",
    "          'RCS06': stream.V1Client(cfg_RCS06),'RCS07': stream.V1Client(cfg_RCS07)}\n",
    "\n",
    "# device_ids are ID's for patient's RCS's, for all patient right-sided RCS\n",
    "deviceIDS = {'RCS02': 'DeviceNPC700404H', \n",
    "             'RCS05': 'DeviceNPC700415H', \n",
    "             'RCS06': 'NPC700425H', \n",
    "             'RCS07': 'NPC700403H'}\n",
    "\n",
    "\n",
    "\n",
    "\n",
    "\n"
   ]
  },
  {
   "cell_type": "code",
   "execution_count": 18,
   "metadata": {},
   "outputs": [],
   "source": [
    "def downloadRCSAccData(pt,y0,m0,d0,y1,m1,d1):\n",
    "    '''\n",
    "    Function downloads csv files with RCS accelerometry (always with gravity, no internal\n",
    "    filtering) for seperate days.\n",
    "    within a given time period.\n",
    "    Input:\n",
    "    - pt = patient as string (e.g. 'RCS02' or 'RCS05')\n",
    "    - y0,m0,d0 : start date of desired timeperiod (year, month, date, e.g. 2020, 5, 1)\n",
    "    - y1,m1,d1 : end date of desired timeperiod (year, month, date, e.g. 2020, 6, 1)\n",
    "    \n",
    "    Saves csv files in patient folder within given path-folder.\n",
    "    '''\n",
    "    \n",
    "    '''\n",
    "    Configurations for extraction via Rune platform\n",
    "    Source: https://github.com/rune-labs/opensource/blob/master/jupyter-notebook-templates/02_download_watch_data.ipynb\n",
    "    \n",
    "    Config files are patient and user specific. Open yaml-files to enter personal client key and access key.\n",
    "    To get keys: log in in Rune-labs as admin; click edit-pencil next to patients name;\n",
    "    go to Clients; make new Client; copy keys to yaml-file\n",
    "    '''\n",
    "    \n",
    "    # define timespan\n",
    "    def datetime_range(start=None, end=None):\n",
    "        span = end - start\n",
    "        for i in range(span.days + 1):\n",
    "            yield start + timedelta(days=i)\n",
    "    datetimeDays = list(datetime_range(start=datetime(y0, m0, d0), end=datetime(y1, m1, d1)))\n",
    "    \n",
    "    # loop over all days in requested timespan\n",
    "    for timeStart in datetimeDays:\n",
    "        # define start time of download, as required tuple\n",
    "        start = time.mktime(timeStart.timetuple()) #1577865600, is equivalent to: 01/01/2020 @ 12:00am (UTC)\n",
    "        # download per day, so end of download is end of day\n",
    "        timeEnd = timeStart + timedelta(days=1)\n",
    "        # convert end-time in required time tuple        \n",
    "        end = time.mktime(timeEnd.timetuple()) # convert to unix time\n",
    "\n",
    "        # set download parameters with set start and endtimes\n",
    "        downloadParameters = {'device_id': deviceIDS[pt], 'start_time': start,'end_time': end, 'timestamp': 'unix'}\n",
    "\n",
    "        '''\n",
    "        Rune-function which makes API call for accel data, saves to CSV and outputs dataframe.\n",
    "        RCS only generates acc-data with gravity. So, use expression=accel.\n",
    "        '''\n",
    "        # set download parameters with specific device, start and end date\n",
    "        accessor = clients[pt].Accel(**downloadParameters, expression= \"accel\" )\n",
    "        # Extraction of Rune function\n",
    "        df = pd.DataFrame()\n",
    "        for page in accessor.iter_csv_text():\n",
    "            page_df = pd.read_csv(io.StringIO(page))\n",
    "            df = df.append(page_df, ignore_index=True)\n",
    "              \n",
    "        # define name of day-file\n",
    "        day = timeStart.strftime(\"%d\") # generate 2-digit day code\n",
    "        month = timeStart.strftime(\"%m\") # generate 3-letter month code\n",
    "        year = timeStart.strftime(\"%Y\") # generate 4-digit year code\n",
    "\n",
    "        if df.shape[0] < 5: # selects days without available acc data\n",
    "            print('%s %s %s had no recording.'% ( year, month, day)) # informing about days without recording\n",
    "            continue # goes further to next day without writing file\n",
    "        \n",
    "        fileName = '%s_%s%s%s_RCS_accel.csv' % (pt, year, month, day)\n",
    "        # save dataframe to a csv\n",
    "        patient_dir_name = os.path.join(path,'data','%s' %pt)\n",
    "        try: \n",
    "            os.makedirs(patient_dir_name)\n",
    "        except OSError as error: \n",
    "            print(error)\n",
    "        df.to_csv(os.path.join(patient_dir_name,fileName), index=False)\n",
    "        print('%s %s %s is written!'% ( year, month, day))\n",
    "    \n",
    "    return df\n",
    "\n"
   ]
  },
  {
   "cell_type": "code",
   "execution_count": 19,
   "metadata": {},
   "outputs": [
    {
     "name": "stdout",
     "output_type": "stream",
     "text": [
      "[Errno 17] File exists: '/Users/jeroenhabets/Desktop/UCSF_Bradykinesia_Detection/medStateDetection/data/RCS02'\n",
      "2020 06 10 is written!\n",
      "2020 06 11 had no recording.\n"
     ]
    }
   ],
   "source": [
    "test = downloadRCSAccData(pt='RCS02', y0=2020, m0=6, d0=10, y1=2020, m1=6, d1=11)\n",
    "\n"
   ]
  }
 ],
 "metadata": {
  "kernelspec": {
   "display_name": "Python 3",
   "language": "python",
   "name": "python3"
  },
  "language_info": {
   "codemirror_mode": {
    "name": "ipython",
    "version": 3
   },
   "file_extension": ".py",
   "mimetype": "text/x-python",
   "name": "python",
   "nbconvert_exporter": "python",
   "pygments_lexer": "ipython3",
   "version": "3.7.3"
  }
 },
 "nbformat": 4,
 "nbformat_minor": 2
}
